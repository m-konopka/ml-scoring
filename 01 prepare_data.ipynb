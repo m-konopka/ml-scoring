{
 "cells": [
  {
   "cell_type": "code",
   "execution_count": 1,
   "id": "37707a7a",
   "metadata": {},
   "outputs": [],
   "source": [
    "import pandas as pd"
   ]
  },
  {
   "cell_type": "markdown",
   "id": "f66112d7",
   "metadata": {},
   "source": [
    "### UCIMLR: Statlog (German Credit Data) Data Set\n",
    "\n",
    "source: https://archive.ics.uci.edu/ml/datasets/statlog+(german+credit+data)"
   ]
  },
  {
   "cell_type": "code",
   "execution_count": 2,
   "id": "2210d507",
   "metadata": {},
   "outputs": [],
   "source": [
    "german_data_colnames = [\n",
    "    \"chk_acct\",\n",
    "    \"duration\",\n",
    "    \"credit_his\",\n",
    "    \"purpose\",\n",
    "    \"amount\",\n",
    "    \"saving_acct\",\n",
    "    \"present_emp\",\n",
    "    \"installment_rate\",\n",
    "    \"sex\",\n",
    "    \"other_debtor\",\n",
    "    \"present_resid\",\n",
    "    \"property\",\n",
    "    \"age\",\n",
    "    \"other_install\",\n",
    "    \"housing\",\n",
    "    \"n_credits\",\n",
    "    \"job\",\n",
    "    \"n_people\",\n",
    "    \"telephone\",\n",
    "    \"foreign\",\n",
    "    \"response\",\n",
    "]\n",
    "\n",
    "df = pd.read_csv(\n",
    "    \"Data\\\\data_original\\\\german.data\",\n",
    "    header=None,\n",
    "    delimiter=r\"\\s+\",\n",
    "    names=german_data_colnames,\n",
    ")\n",
    "df[\"GOOD\"] = 2 - df[\"response\"]\n",
    "df = df.drop([\"response\"], axis=1)\n",
    "df.to_csv(\"Data\\\\data_preprocessed\\\\german_data.csv\", index=False)"
   ]
  },
  {
   "cell_type": "markdown",
   "id": "61fb2f7e",
   "metadata": {},
   "source": [
    "### UCIMLR: default of credit card clients Data Set\n",
    "\n",
    "source: https://archive.ics.uci.edu/ml/datasets/default+of+credit+card+clients"
   ]
  },
  {
   "cell_type": "code",
   "execution_count": 3,
   "id": "9243caa0",
   "metadata": {},
   "outputs": [],
   "source": [
    "df = pd.read_excel(\"Data\\\\data_original\\\\default of credit card clients.xls\", header=1)\n",
    "df[\"GOOD\"] = 1 - df[\"default payment next month\"]\n",
    "df = df.drop([\"default payment next month\"], axis=1)\n",
    "df.to_csv(\"Data\\\\data_preprocessed\\\\taiwan_data.csv\", index=False)"
   ]
  },
  {
   "cell_type": "code",
   "execution_count": null,
   "id": "1f5f9039",
   "metadata": {},
   "outputs": [],
   "source": []
  }
 ],
 "metadata": {
  "kernelspec": {
   "display_name": "Python 3",
   "language": "python",
   "name": "python3"
  },
  "language_info": {
   "codemirror_mode": {
    "name": "ipython",
    "version": 3
   },
   "file_extension": ".py",
   "mimetype": "text/x-python",
   "name": "python",
   "nbconvert_exporter": "python",
   "pygments_lexer": "ipython3",
   "version": "3.9.2"
  },
  "varInspector": {
   "cols": {
    "lenName": 16,
    "lenType": 16,
    "lenVar": 40
   },
   "kernels_config": {
    "python": {
     "delete_cmd_postfix": "",
     "delete_cmd_prefix": "del ",
     "library": "var_list.py",
     "varRefreshCmd": "print(var_dic_list())"
    },
    "r": {
     "delete_cmd_postfix": ") ",
     "delete_cmd_prefix": "rm(",
     "library": "var_list.r",
     "varRefreshCmd": "cat(var_dic_list()) "
    }
   },
   "types_to_exclude": [
    "module",
    "function",
    "builtin_function_or_method",
    "instance",
    "_Feature"
   ],
   "window_display": false
  }
 },
 "nbformat": 4,
 "nbformat_minor": 5
}
