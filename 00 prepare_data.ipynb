{
 "cells": [
  {
   "cell_type": "code",
   "execution_count": 1,
   "id": "36e9c49b",
   "metadata": {},
   "outputs": [],
   "source": [
    "import pandas as pd"
   ]
  },
  {
   "cell_type": "markdown",
   "id": "f0417a73",
   "metadata": {},
   "source": [
    "### UCIMLR: default of credit card clients Data Set\n",
    "\n",
    "source: https://archive.ics.uci.edu/ml/datasets/default+of+credit+card+clients"
   ]
  },
  {
   "cell_type": "code",
   "execution_count": 2,
   "id": "f6421707",
   "metadata": {},
   "outputs": [],
   "source": [
    "df = pd.read_excel(\"Data\\\\data_original\\\\default of credit card clients.xls\", header=1)\n",
    "df[\"GOOD\"] = 1 - df[\"default payment next month\"]\n",
    "df['SEX'] = df['SEX'] - 1\n",
    "df = df.drop([\"ID\", \"default payment next month\"], axis=1)\n",
    "df.to_csv(\"Data\\\\data_preprocessed\\\\taiwan_data.csv\", index=False)"
   ]
  },
  {
   "cell_type": "code",
   "execution_count": 3,
   "id": "e1d81ca9",
   "metadata": {},
   "outputs": [],
   "source": [
    "df = pd.read_csv(\"Data\\\\data_preprocessed\\\\taiwan_data.csv\", sep=\",\", na_values=\"NULL\")\n",
    "\n",
    "df['LIMIT_BAL'] = pd.qcut(df['LIMIT_BAL'], 10, labels=range(1, 11))\n",
    "df['AGE'] = pd.qcut(df['AGE'], 10, labels=range(1, 11))\n",
    "df['BILL_AMT1'] = pd.qcut(df['BILL_AMT1'], 10, labels=range(1, 11))\n",
    "df['BILL_AMT2'] = pd.qcut(df['BILL_AMT2'], 10, labels=range(1, 11))\n",
    "df['BILL_AMT3'] = pd.qcut(df['BILL_AMT3'], 10, labels=range(1, 11))\n",
    "df['BILL_AMT4'] = pd.qcut(df['BILL_AMT4'], 10, labels=range(1, 11))\n",
    "df['BILL_AMT5'] = pd.qcut(df['BILL_AMT5'], 10, labels=range(1, 11))\n",
    "df['BILL_AMT6'] = pd.qcut(df['BILL_AMT6'], 10, labels=range(1, 11))\n",
    "df['PAY_AMT1'] = pd.qcut(df['PAY_AMT1'], 5, labels=range(1, 6))\n",
    "df['PAY_AMT2'] = pd.qcut(df['PAY_AMT2'], 5, labels=range(1, 6))\n",
    "df['PAY_AMT3'] = pd.qcut(df['PAY_AMT3'], 5, labels=range(1, 6))\n",
    "df['PAY_AMT4'] = pd.qcut(df['PAY_AMT4'], 4, labels=range(1, 5))\n",
    "df['PAY_AMT5'] = pd.qcut(df['PAY_AMT5'], 4, labels=range(1, 5))\n",
    "df['PAY_AMT6'] = pd.qcut(df['PAY_AMT6'], 4, labels=range(1, 5))\n",
    "\n",
    "df.to_csv(\"Data\\\\data_preprocessed\\\\taiwan_data_binned.csv\", index=False)"
   ]
  },
  {
   "cell_type": "code",
   "execution_count": null,
   "id": "37c553f3",
   "metadata": {},
   "outputs": [],
   "source": []
  }
 ],
 "metadata": {
  "kernelspec": {
   "display_name": "Python 3",
   "language": "python",
   "name": "python3"
  },
  "language_info": {
   "codemirror_mode": {
    "name": "ipython",
    "version": 3
   },
   "file_extension": ".py",
   "mimetype": "text/x-python",
   "name": "python",
   "nbconvert_exporter": "python",
   "pygments_lexer": "ipython3",
   "version": "3.9.2"
  },
  "varInspector": {
   "cols": {
    "lenName": 16,
    "lenType": 16,
    "lenVar": 40
   },
   "kernels_config": {
    "python": {
     "delete_cmd_postfix": "",
     "delete_cmd_prefix": "del ",
     "library": "var_list.py",
     "varRefreshCmd": "print(var_dic_list())"
    },
    "r": {
     "delete_cmd_postfix": ") ",
     "delete_cmd_prefix": "rm(",
     "library": "var_list.r",
     "varRefreshCmd": "cat(var_dic_list()) "
    }
   },
   "types_to_exclude": [
    "module",
    "function",
    "builtin_function_or_method",
    "instance",
    "_Feature"
   ],
   "window_display": false
  }
 },
 "nbformat": 4,
 "nbformat_minor": 5
}
